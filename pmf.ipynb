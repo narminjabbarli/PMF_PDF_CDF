{
 "cells": [
  {
   "cell_type": "code",
   "execution_count": 7,
   "metadata": {},
   "outputs": [
    {
     "data": {
      "image/png": "[encoded data removed]",
      "text/plain": [
       "<Figure size 432x288 with 1 Axes>"
      ]
     },
     "metadata": {
      "needs_background": "light"
     },
     "output_type": "display_data"
    }
   ],
   "source": [
    "import numpy as np\n",
    "import matplotlib.pyplot as plt\n",
    "#zerin 100 defe atilmasi sinagi\n",
    "num_throws = 100 #zerin atilma sayi\n",
    "outcomes = np.zeros(num_throws)\n",
    "for i in range(num_throws):\n",
    "    outcome = np.random.choice(['1', '2', '3', '4', '5', '6'])\n",
    "    outcomes[i] = outcome\n",
    "\n",
    "# ferqli olan valueleri array olaraq val deyishenine, saylarini cnt deyishenine menimsetmek\n",
    "val, cnt = np.unique(outcomes, return_counts=True) \n",
    "\n",
    "#sinaqlarin ehtimali\n",
    "prop = cnt / len(outcomes)\n",
    "\n",
    "plt.bar(val, prop)\n",
    "plt.ylabel(\"Probability\")\n",
    "plt.xlabel(\"Outcome\")\n",
    "plt.show()\n",
    "plt.close()"
   ]
  },
  {
   "cell_type": "code",
   "execution_count": null,
   "metadata": {},
   "outputs": [],
   "source": []
  }
 ],
 "metadata": {
  "kernelspec": {
   "display_name": "Python 3",
   "language": "python",
   "name": "python3"
  },
  "language_info": {
   "codemirror_mode": {
    "name": "ipython",
    "version": 3
   },
   "file_extension": ".py",
   "mimetype": "text/x-python",
   "name": "python",
   "nbconvert_exporter": "python",
   "pygments_lexer": "ipython3",
   "version": "3.7.4"
  }
 },
 "nbformat": 4,
 "nbformat_minor": 4
}
